{
 "cells": [
  {
   "cell_type": "code",
   "execution_count": 35,
   "metadata": {},
   "outputs": [],
   "source": [
    "import pandas as pd"
   ]
  },
  {
   "cell_type": "code",
   "execution_count": 36,
   "metadata": {},
   "outputs": [],
   "source": [
    "file_path = r'C:\\Users\\joaol\\Desktop\\archive_3\\spotifytoptracks.csv' #Use the correct path in your pc \n",
    "df = pd.read_csv(file_path)"
   ]
  },
  {
   "cell_type": "code",
   "execution_count": 37,
   "metadata": {},
   "outputs": [
    {
     "name": "stdout",
     "output_type": "stream",
     "text": [
      "   Unnamed: 0       artist                                  album  \\\n",
      "0           0   The Weeknd                            After Hours   \n",
      "1           1  Tones And I                           Dance Monkey   \n",
      "2           2  Roddy Ricch  Please Excuse Me For Being Antisocial   \n",
      "3           3    SAINt JHN                  Roses (Imanbek Remix)   \n",
      "4           4     Dua Lipa                       Future Nostalgia   \n",
      "\n",
      "              track_name                track_id  energy  danceability  key  \\\n",
      "0        Blinding Lights  0VjIjW4GlUZAMYd2vXMi3b   0.730         0.514    1   \n",
      "1           Dance Monkey  1rgnBhdG2JDFTbYkYRZAku   0.593         0.825    6   \n",
      "2                The Box  0nbXyq5TXYPCO7pr3N8S4I   0.586         0.896   10   \n",
      "3  Roses - Imanbek Remix  2Wo6QQD1KMDWeFkkjLqwx5   0.721         0.785    8   \n",
      "4        Don't Start Now  3PfIrDoz19wz7qK7tYeu62   0.793         0.793   11   \n",
      "\n",
      "   loudness  acousticness  speechiness  instrumentalness  liveness  valence  \\\n",
      "0    -5.934       0.00146       0.0598          0.000095    0.0897    0.334   \n",
      "1    -6.401       0.68800       0.0988          0.000161    0.1700    0.540   \n",
      "2    -6.687       0.10400       0.0559          0.000000    0.7900    0.642   \n",
      "3    -5.457       0.01490       0.0506          0.004320    0.2850    0.894   \n",
      "4    -4.521       0.01230       0.0830          0.000000    0.0951    0.679   \n",
      "\n",
      "     tempo  duration_ms              genre  \n",
      "0  171.005       200040           R&B/Soul  \n",
      "1   98.078       209755  Alternative/Indie  \n",
      "2  116.971       196653        Hip-Hop/Rap  \n",
      "3  121.962       176219   Dance/Electronic  \n",
      "4  123.950       183290           Nu-disco  \n"
     ]
    }
   ],
   "source": [
    "print(df.head())"
   ]
  },
  {
   "cell_type": "code",
   "execution_count": 4,
   "metadata": {},
   "outputs": [
    {
     "name": "stdout",
     "output_type": "stream",
     "text": [
      "Unnamed: 0            int64\n",
      "artist               object\n",
      "album                object\n",
      "track_name           object\n",
      "track_id             object\n",
      "energy              float64\n",
      "danceability        float64\n",
      "key                   int64\n",
      "loudness            float64\n",
      "acousticness        float64\n",
      "speechiness         float64\n",
      "instrumentalness    float64\n",
      "liveness            float64\n",
      "valence             float64\n",
      "tempo               float64\n",
      "duration_ms           int64\n",
      "genre                object\n",
      "dtype: object\n"
     ]
    }
   ],
   "source": [
    "print(df.dtypes)"
   ]
  },
  {
   "cell_type": "code",
   "execution_count": 5,
   "metadata": {},
   "outputs": [
    {
     "name": "stdout",
     "output_type": "stream",
     "text": [
      "Unnamed: 0          0\n",
      "artist              0\n",
      "album               0\n",
      "track_name          0\n",
      "track_id            0\n",
      "energy              0\n",
      "danceability        0\n",
      "key                 0\n",
      "loudness            0\n",
      "acousticness        0\n",
      "speechiness         0\n",
      "instrumentalness    0\n",
      "liveness            0\n",
      "valence             0\n",
      "tempo               0\n",
      "duration_ms         0\n",
      "genre               0\n",
      "dtype: int64\n"
     ]
    }
   ],
   "source": [
    "print(df.isnull().sum())\n"
   ]
  },
  {
   "cell_type": "code",
   "execution_count": null,
   "metadata": {},
   "outputs": [
    {
     "name": "stdout",
     "output_type": "stream",
     "text": [
      "   Unnamed: 0       artist                                  album  \\\n",
      "0           0   The Weeknd                            After Hours   \n",
      "1           1  Tones And I                           Dance Monkey   \n",
      "2           2  Roddy Ricch  Please Excuse Me For Being Antisocial   \n",
      "3           3    SAINt JHN                  Roses (Imanbek Remix)   \n",
      "4           4     Dua Lipa                       Future Nostalgia   \n",
      "\n",
      "              track_name                track_id  energy  danceability  key  \\\n",
      "0        Blinding Lights  0VjIjW4GlUZAMYd2vXMi3b   0.730         0.514    1   \n",
      "1           Dance Monkey  1rgnBhdG2JDFTbYkYRZAku   0.593         0.825    6   \n",
      "2                The Box  0nbXyq5TXYPCO7pr3N8S4I   0.586         0.896   10   \n",
      "3  Roses - Imanbek Remix  2Wo6QQD1KMDWeFkkjLqwx5   0.721         0.785    8   \n",
      "4        Don't Start Now  3PfIrDoz19wz7qK7tYeu62   0.793         0.793   11   \n",
      "\n",
      "   loudness  acousticness  speechiness  instrumentalness  liveness  valence  \\\n",
      "0    -5.934       0.00146       0.0598          0.000095    0.0897    0.334   \n",
      "1    -6.401       0.68800       0.0988          0.000161    0.1700    0.540   \n",
      "2    -6.687       0.10400       0.0559          0.000000    0.7900    0.642   \n",
      "3    -5.457       0.01490       0.0506          0.004320    0.2850    0.894   \n",
      "4    -4.521       0.01230       0.0830          0.000000    0.0951    0.679   \n",
      "\n",
      "     tempo  duration_ms              genre song_duration  \n",
      "0  171.005       200040           R&B/Soul        3m 20s  \n",
      "1   98.078       209755  Alternative/Indie        3m 29s  \n",
      "2  116.971       196653        Hip-Hop/Rap        3m 16s  \n",
      "3  121.962       176219   Dance/Electronic        2m 56s  \n",
      "4  123.950       183290           Nu-disco         3m 3s  \n",
      "0    3m 20s\n",
      "1    3m 29s\n",
      "2    3m 16s\n",
      "3    2m 56s\n",
      "4     3m 3s\n",
      "Name: song_duration, dtype: object\n"
     ]
    }
   ],
   "source": [
    "# To convert the duration in miliseconds into minutes and seconds (for better readibility)\n",
    "\n",
    "df['song_duration'] = (df['duration_ms'] // 60000).astype(str) + 'm ' + ((df['duration_ms'] % 60000) // 1000).astype(str) + 's'\n",
    "df.to_csv(r'C:\\Users\\joaol\\Desktop\\archive_3\\spotifytoptracks_updated.csv', index=False)\n",
    "\n",
    "print(df.head())\n",
    "print(df['song_duration'].head())"
   ]
  },
  {
   "cell_type": "code",
   "execution_count": 8,
   "metadata": {},
   "outputs": [
    {
     "name": "stdout",
     "output_type": "stream",
     "text": [
      "The nº of observations in this dataset is 50\n"
     ]
    }
   ],
   "source": [
    "#1. How many observations are there in this dataset?\n",
    "\n",
    "n_observations = len(df)\n",
    "print('The nº of observations in this dataset is', n_observations)"
   ]
  },
  {
   "cell_type": "code",
   "execution_count": 9,
   "metadata": {},
   "outputs": [
    {
     "name": "stdout",
     "output_type": "stream",
     "text": [
      "The nº of features in this dataset is 18\n"
     ]
    }
   ],
   "source": [
    "# 2. How many features this dataset has?\n",
    "\n",
    "n_features = len(df.columns)\n",
    "print('The nº of features in this dataset is', n_features)"
   ]
  },
  {
   "cell_type": "code",
   "execution_count": 10,
   "metadata": {},
   "outputs": [
    {
     "name": "stdout",
     "output_type": "stream",
     "text": [
      "Categorical variables in this dataset:\n",
      "- artist\n",
      "- album\n",
      "- track_name\n",
      "- track_id\n",
      "- genre\n",
      "- song_duration\n"
     ]
    }
   ],
   "source": [
    "# 3. Which of the features are categorical?\n",
    "\n",
    "categorical_col = df.select_dtypes(include=['object']).columns\n",
    "print(f\"Categorical variables in this dataset:\")\n",
    "for col in categorical_col:\n",
    "    print(f\"- {col}\")"
   ]
  },
  {
   "cell_type": "code",
   "execution_count": 11,
   "metadata": {},
   "outputs": [
    {
     "name": "stdout",
     "output_type": "stream",
     "text": [
      "Numeric variables in this dataset:\n",
      "- Unnamed: 0\n",
      "- energy\n",
      "- danceability\n",
      "- key\n",
      "- loudness\n",
      "- acousticness\n",
      "- speechiness\n",
      "- instrumentalness\n",
      "- liveness\n",
      "- valence\n",
      "- tempo\n",
      "- duration_ms\n"
     ]
    }
   ],
   "source": [
    "## 4. Which of the features are numeric?\n",
    "\n",
    "numeric_col = df.select_dtypes(include=['float64', 'int64']).columns\n",
    "print(f\"Numeric variables in this dataset:\")\n",
    "for col in numeric_col:\n",
    "    print(f\"- {col}\")"
   ]
  },
  {
   "cell_type": "code",
   "execution_count": null,
   "metadata": {},
   "outputs": [
    {
     "name": "stdout",
     "output_type": "stream",
     "text": [
      "The artists with more than 1 popular track are:\n",
      "artist\n",
      "Billie Eilish    3\n",
      "Dua Lipa         3\n",
      "Travis Scott     3\n",
      "Justin Bieber    2\n",
      "Harry Styles     2\n",
      "Lewis Capaldi    2\n",
      "Post Malone      2\n",
      "Name: count, dtype: int64\n"
     ]
    }
   ],
   "source": [
    "## 5. Are there any artists that have more than 1 popular track? If yes, which and how many?\n",
    "\n",
    "artist_counts = df['artist'].value_counts()\n",
    "popular_artists = artist_counts[artist_counts > 1]\n",
    "print(\"The artists with more than 1 popular track are:\")\n",
    "print(popular_artists)"
   ]
  },
  {
   "cell_type": "code",
   "execution_count": 13,
   "metadata": {},
   "outputs": [
    {
     "name": "stdout",
     "output_type": "stream",
     "text": [
      "The most popular artist(s) is/are:\n",
      "artist\n",
      "Billie Eilish    3\n",
      "Dua Lipa         3\n",
      "Travis Scott     3\n",
      "Name: count, dtype: int64\n"
     ]
    }
   ],
   "source": [
    "## 6. Who was the most popular artist?\n",
    "\n",
    "artist_counts = df['artist'].value_counts()\n",
    "max_tracks = artist_counts.max()\n",
    "popular_artists = artist_counts[artist_counts == max_tracks]\n",
    "\n",
    "print(\"The most popular artist(s) is/are:\")\n",
    "print(popular_artists)\n"
   ]
  },
  {
   "cell_type": "code",
   "execution_count": 14,
   "metadata": {},
   "outputs": [
    {
     "name": "stdout",
     "output_type": "stream",
     "text": [
      "There are 40 artists in this dataset.\n"
     ]
    }
   ],
   "source": [
    "## 7. How many artists in total have their songs in the top 50?\n",
    "\n",
    "distinct_artist = df['artist'].nunique()\n",
    "print(f\"There are {distinct_artist} artists in this dataset.\")"
   ]
  },
  {
   "cell_type": "code",
   "execution_count": 15,
   "metadata": {},
   "outputs": [
    {
     "name": "stdout",
     "output_type": "stream",
     "text": [
      "The albums with more than 1 popular track are:\n",
      "artist         album               \n",
      "Dua Lipa       Future Nostalgia        3\n",
      "Harry Styles   Fine Line               2\n",
      "Justin Bieber  Changes                 2\n",
      "Post Malone    Hollywood's Bleeding    2\n",
      "dtype: int64\n"
     ]
    }
   ],
   "source": [
    "## 8. Are there any albums that have more than 1 popular track? If yes, which and how many?\n",
    "\n",
    "albums_count = df.groupby(['artist','album']).size()\n",
    "popular_albums = albums_count[albums_count > 1]\n",
    "print(\"The albums with more than 1 popular track are:\")\n",
    "print(popular_albums)\n"
   ]
  },
  {
   "cell_type": "code",
   "execution_count": 17,
   "metadata": {},
   "outputs": [
    {
     "name": "stdout",
     "output_type": "stream",
     "text": [
      "There are 45 distinct albums in the dataset.\n"
     ]
    }
   ],
   "source": [
    "## 9. How many albums in total have their songs in the top 50?\n",
    "\n",
    "albums_count = df['album'].nunique()\n",
    "print(f\"There are {albums_count} distinct albums in the dataset.\")"
   ]
  },
  {
   "cell_type": "code",
   "execution_count": 18,
   "metadata": {},
   "outputs": [
    {
     "name": "stdout",
     "output_type": "stream",
     "text": [
      "There are 32 tracks with a danceability score above 0.7.\n"
     ]
    }
   ],
   "source": [
    "## 10. Which tracks have a danceability score above 0.7?\n",
    "\n",
    "track_danceability = df['danceability'] > 0.7\n",
    "n_danceable_track = track_danceability.sum()\n",
    "print(f'There are {n_danceable_track} tracks with a danceability score above 0.7.')"
   ]
  },
  {
   "cell_type": "code",
   "execution_count": 19,
   "metadata": {},
   "outputs": [
    {
     "name": "stdout",
     "output_type": "stream",
     "text": [
      "There are 1 track with a danceability score below 0.4.\n"
     ]
    }
   ],
   "source": [
    "## 11. Which tracks have a danceability score below 0.4?\n",
    "\n",
    "track_danceability = df['danceability'] < 0.4\n",
    "n_non_danceable_track = track_danceability.sum()\n",
    "print(f'There are {n_non_danceable_track} track with a danceability score below 0.4.')"
   ]
  },
  {
   "cell_type": "code",
   "execution_count": 20,
   "metadata": {},
   "outputs": [
    {
     "name": "stdout",
     "output_type": "stream",
     "text": [
      "           artist                                     track_name  loudness\n",
      "4        Dua Lipa                                Don't Start Now    -4.521\n",
      "6    Harry Styles                               Watermelon Sugar    -4.209\n",
      "10        KAROL G                                           Tusa    -3.280\n",
      "12    Post Malone                                        Circles    -3.497\n",
      "16  Lewis Capaldi                                  Before You Go    -4.858\n",
      "17       Doja Cat                                         Say So    -4.577\n",
      "21   Harry Styles                                      Adore You    -3.675\n",
      "23       24kGoldn                         Mood (feat. iann dior)    -3.558\n",
      "31       Dua Lipa                                 Break My Heart    -3.434\n",
      "32            BTS                                       Dynamite    -4.410\n",
      "33          BENEE               Supalonely (feat. Gus Dapperton)    -4.746\n",
      "35      Lady Gaga                Rain On Me (with Ariana Grande)    -3.764\n",
      "37    Post Malone  Sunflower - Spider-Man: Into the Spider-Verse    -4.368\n",
      "38         Maluma                                          Hawái    -3.454\n",
      "39         Regard                                        Ride It    -4.258\n",
      "40   Travis Scott                                     goosebumps    -3.370\n",
      "43      Bad Bunny                                        Safaera    -4.074\n",
      "48       Dua Lipa                                       Physical    -3.756\n",
      "49   Travis Scott                                     SICKO MODE    -3.714\n"
     ]
    }
   ],
   "source": [
    "## 12. Which tracks have their loudness above -5?\n",
    "\n",
    "loud_tracks = df[df['loudness'] > -5][['artist','track_name', 'loudness']]\n",
    "print(loud_tracks)"
   ]
  },
  {
   "cell_type": "code",
   "execution_count": 21,
   "metadata": {},
   "outputs": [
    {
     "name": "stdout",
     "output_type": "stream",
     "text": [
      "           artist                                      track_name  loudness\n",
      "7           Powfu                death bed (coffee for your head)    -8.765\n",
      "8   Trevor Daniel                                         Falling    -8.756\n",
      "15          Drake                                    Toosie Slide    -8.820\n",
      "20      Jawsh 685                Savage Love (Laxed - Siren Beat)    -8.520\n",
      "24  Billie Eilish                             everything i wanted   -14.454\n",
      "26  Billie Eilish                                         bad guy   -10.965\n",
      "36   Travis Scott                             HIGHEST IN THE ROOM    -8.764\n",
      "44  Billie Eilish                            lovely (with Khalid)   -10.109\n",
      "47        JP Saxe  If the World Was Ending - feat. Julia Michaels   -10.086\n"
     ]
    }
   ],
   "source": [
    "## 13. Which tracks have their loudness below -8?\n",
    "\n",
    "not_loud_tracks = df[df['loudness']< -8][['artist','track_name', 'loudness']]\n",
    "print(not_loud_tracks)"
   ]
  },
  {
   "cell_type": "code",
   "execution_count": 22,
   "metadata": {},
   "outputs": [
    {
     "name": "stdout",
     "output_type": "stream",
     "text": [
      "artist           Travis Scott\n",
      "track_name         SICKO MODE\n",
      "song_duration          5m 12s\n",
      "Name: 49, dtype: object\n"
     ]
    }
   ],
   "source": [
    "## 14. Which track is the longest?\n",
    "\n",
    "longest_song = df.loc[df['duration_ms'].idxmax()]\n",
    "info_longest_song = longest_song[['artist', 'track_name', 'song_duration']]\n",
    "print(info_longest_song)"
   ]
  },
  {
   "cell_type": "code",
   "execution_count": 23,
   "metadata": {},
   "outputs": [
    {
     "name": "stdout",
     "output_type": "stream",
     "text": [
      "artist                         24kGoldn\n",
      "track_name       Mood (feat. iann dior)\n",
      "song_duration                    2m 20s\n",
      "Name: 23, dtype: object\n"
     ]
    }
   ],
   "source": [
    "## 15. Which track is the shortest?\n",
    "\n",
    "shortest_song = df.loc[df['duration_ms'].idxmin()]\n",
    "info_shortest_song = shortest_song[['artist', 'track_name', 'song_duration']]\n",
    "print(info_shortest_song)"
   ]
  },
  {
   "cell_type": "code",
   "execution_count": 24,
   "metadata": {},
   "outputs": [
    {
     "name": "stdout",
     "output_type": "stream",
     "text": [
      "The most popular genre is Pop, with 14 tracks.\n"
     ]
    }
   ],
   "source": [
    "## 16. Which genre is the most popular?\n",
    "\n",
    "genres = df['genre'].value_counts()\n",
    "popular_genre = genres.idxmax()\n",
    "n_popular_genre = genres.max()\n",
    "print(f'The most popular genre is {popular_genre}, with {n_popular_genre} tracks.')"
   ]
  },
  {
   "cell_type": "code",
   "execution_count": 25,
   "metadata": {},
   "outputs": [
    {
     "name": "stdout",
     "output_type": "stream",
     "text": [
      "genre\n",
      "Nu-disco                              1\n",
      "R&B/Hip-Hop alternative               1\n",
      "Pop/Soft Rock                         1\n",
      "Pop rap                               1\n",
      "Hip-Hop/Trap                          1\n",
      "Dance-pop/Disco                       1\n",
      "Disco-pop                             1\n",
      "Dreampop/Hip-Hop/R&B                  1\n",
      "Alternative/reggaeton/experimental    1\n",
      "Chamber pop                           1\n",
      "Name: count, dtype: int64\n"
     ]
    }
   ],
   "source": [
    "## 17. Which genres have just one song on the top 50?\n",
    "\n",
    "genres = df['genre'].value_counts()\n",
    "unpopular_genres = genres[genres == 1]\n",
    "print(unpopular_genres)\n"
   ]
  },
  {
   "cell_type": "code",
   "execution_count": 26,
   "metadata": {},
   "outputs": [
    {
     "name": "stdout",
     "output_type": "stream",
     "text": [
      "In this dataset, there are 16 different genres.\n"
     ]
    }
   ],
   "source": [
    "## 18. How many genres in total are represented in the top 50?\n",
    "\n",
    "genres = df['genre'].value_counts()\n",
    "n_genre = genres.count()\n",
    "print(f'In this dataset, there are {n_genre} different genres.')\n"
   ]
  },
  {
   "cell_type": "code",
   "execution_count": 27,
   "metadata": {},
   "outputs": [
    {
     "name": "stdout",
     "output_type": "stream",
     "text": [
      "Features with strong positive correlations above 0.7:\n",
      "energy    loudness    0.79164\n",
      "loudness  energy      0.79164\n",
      "dtype: float64\n"
     ]
    }
   ],
   "source": [
    "## 19. Which features are strongly positively correlated?\n",
    "\n",
    "numerical_columns = df.select_dtypes(include=['int64', 'float64'])\n",
    "\n",
    "correlation_matrix = numerical_columns.corr()\n",
    "\n",
    "positive_correlation = correlation_matrix.unstack().sort_values(ascending=False)\n",
    "positive_correlation = positive_correlation[(positive_correlation > 0.7) & (positive_correlation != 1)]\n",
    "print(\"Features with strong positive correlations above 0.7:\")\n",
    "print(positive_correlation)"
   ]
  },
  {
   "cell_type": "code",
   "execution_count": 28,
   "metadata": {},
   "outputs": [
    {
     "name": "stdout",
     "output_type": "stream",
     "text": [
      "Features with strong negative correlations below -0.7:\n",
      "Series([], dtype: float64)\n"
     ]
    }
   ],
   "source": [
    "## 20. Which features are strongly negatively correlated?\n",
    "\n",
    "numerical_columns = df.select_dtypes(include=['int64', 'float64'])\n",
    "\n",
    "correlation_matrix = numerical_columns.corr()\n",
    "\n",
    "negative_correlation = correlation_matrix.unstack().sort_values(ascending=False)\n",
    "negative_correlation = negative_correlation[(negative_correlation < -0.7)]\n",
    "print(\"Features with strong negative correlations below -0.7:\")\n",
    "print(negative_correlation)"
   ]
  },
  {
   "cell_type": "code",
   "execution_count": null,
   "metadata": {},
   "outputs": [
    {
     "name": "stdout",
     "output_type": "stream",
     "text": [
      "Features with no correlations between them:\n",
      "tempo             valence             0.045089\n",
      "valence           tempo               0.045089\n",
      "Unnamed: 0        loudness            0.034935\n",
      "loudness          Unnamed: 0          0.034935\n",
      "Unnamed: 0        energy              0.030381\n",
      "energy            Unnamed: 0          0.030381\n",
      "speechiness       instrumentalness    0.028948\n",
      "instrumentalness  speechiness         0.028948\n",
      "liveness          tempo               0.025457\n",
      "tempo             liveness            0.025457\n",
      "instrumentalness  key                 0.020802\n",
      "key               instrumentalness    0.020802\n",
      "tempo             instrumentalness    0.018853\n",
      "instrumentalness  tempo               0.018853\n",
      "                  Unnamed: 0         -0.003126\n",
      "Unnamed: 0        instrumentalness   -0.003126\n",
      "duration_ms       key                -0.003345\n",
      "key               duration_ms        -0.003345\n",
      "liveness          danceability       -0.006648\n",
      "danceability      liveness           -0.006648\n",
      "key               loudness           -0.009178\n",
      "loudness          key                -0.009178\n",
      "acousticness      duration_ms        -0.010988\n",
      "duration_ms       acousticness       -0.010988\n",
      "instrumentalness  danceability       -0.017706\n",
      "danceability      instrumentalness   -0.017706\n",
      "loudness          speechiness        -0.021693\n",
      "speechiness       loudness           -0.021693\n",
      "liveness          valence            -0.033366\n",
      "valence           liveness           -0.033366\n",
      "duration_ms       danceability       -0.033763\n",
      "danceability      duration_ms        -0.033763\n",
      "valence           Unnamed: 0         -0.034159\n",
      "Unnamed: 0        valence            -0.034159\n",
      "acousticness      Unnamed: 0         -0.036557\n",
      "Unnamed: 0        acousticness       -0.036557\n",
      "duration_ms       valence            -0.039794\n",
      "valence           duration_ms        -0.039794\n",
      "dtype: float64\n",
      "There are 38 features which are not correlated to each other.\n"
     ]
    }
   ],
   "source": [
    "## 21. Which features are not correlated?\n",
    "\n",
    "correlation_matrix = numerical_columns.corr()\n",
    "\n",
    "no_correlation = correlation_matrix.unstack().sort_values(ascending=False)\n",
    "no_correlation = no_correlation[(no_correlation > -0.05) & (no_correlation < 0.05 )]\n",
    "print(\"Features with no correlations between them:\")\n",
    "print(no_correlation)\n",
    "print(f'There are {no_correlation.count()} features which are not correlated to each other.')"
   ]
  },
  {
   "cell_type": "code",
   "execution_count": 31,
   "metadata": {},
   "outputs": [
    {
     "name": "stdout",
     "output_type": "stream",
     "text": [
      "                   count      mean       std    min      25%    50%      75%  \\\n",
      "genre                                                                          \n",
      "Pop                 14.0  0.677571  0.109853  0.464  0.61575  0.690  0.76275   \n",
      "Hip-Hop/Rap         13.0  0.765538  0.085470  0.598  0.72600  0.774  0.83000   \n",
      "Dance/Electronic     5.0  0.755000  0.094744  0.647  0.67400  0.785  0.78900   \n",
      "Alternative/Indie    4.0  0.661750  0.211107  0.459  0.49050  0.663  0.83425   \n",
      "\n",
      "                     max  \n",
      "genre                     \n",
      "Pop                0.806  \n",
      "Hip-Hop/Rap        0.896  \n",
      "Dance/Electronic   0.880  \n",
      "Alternative/Indie  0.862  \n"
     ]
    }
   ],
   "source": [
    "# Comparing danceability between Pop, Hip-Hop/Rap, Dance/Eletronic, and Alternative/Indie genres\n",
    "\n",
    "genres = ['Pop', 'Hip-Hop/Rap', 'Dance/Electronic', 'Alternative/Indie']\n",
    "filtered_genres = df[df['genre'].isin(genres)]\n",
    "dance_genres = filtered_genres.groupby('genre')['danceability'].describe()\n",
    "dance_genres = dance_genres.sort_values(by='count', ascending=False)\n",
    "\n",
    "print(dance_genres)"
   ]
  },
  {
   "cell_type": "code",
   "execution_count": 32,
   "metadata": {},
   "outputs": [
    {
     "name": "stdout",
     "output_type": "stream",
     "text": [
      "                   count      mean       std      25%     50%      75%  \\\n",
      "genre                                                                    \n",
      "Pop                 14.0 -6.460357  3.014281 -7.17875 -6.6445 -3.87525   \n",
      "Hip-Hop/Rap         13.0 -6.917846  1.891808 -8.52000 -7.6480 -5.61600   \n",
      "Dance/Electronic     5.0 -5.338000  1.479047 -5.65200 -5.4570 -4.25800   \n",
      "Alternative/Indie    4.0 -5.421000  0.774502 -5.85950 -5.2685 -4.83000   \n",
      "\n",
      "                   loudest  quietest  \n",
      "genre                                 \n",
      "Pop                 -3.280   -14.454  \n",
      "Hip-Hop/Rap         -3.370    -8.820  \n",
      "Dance/Electronic    -3.756    -7.567  \n",
      "Alternative/Indie   -4.746    -6.401  \n"
     ]
    }
   ],
   "source": [
    "# Comparing loudness between Pop, Hip-Hop/Rap, Dance/Eletronic, and Alternative/Indie genres\n",
    "\n",
    "loud_genres = filtered_genres.groupby('genre')['loudness'].describe()\n",
    "loud_genres['loudest'] = filtered_genres.groupby('genre')['loudness'].max()\n",
    "loud_genres['quietest'] = filtered_genres.groupby('genre')['loudness'].min()\n",
    "loud_genres = loud_genres.drop(columns=['max', 'min'])\n",
    "loud_genres = loud_genres.sort_values(by='count', ascending=False)\n",
    "print(loud_genres)"
   ]
  },
  {
   "cell_type": "code",
   "execution_count": 33,
   "metadata": {},
   "outputs": [
    {
     "name": "stdout",
     "output_type": "stream",
     "text": [
      "                   count      mean       std      min      25%     50%  \\\n",
      "genre                                                                    \n",
      "Pop                 14.0  0.323843  0.318142  0.02100  0.05990  0.2590   \n",
      "Hip-Hop/Rap         13.0  0.188741  0.186396  0.00513  0.06700  0.1450   \n",
      "Dance/Electronic     5.0  0.099440  0.095828  0.01370  0.01490  0.0686   \n",
      "Alternative/Indie    4.0  0.583500  0.204086  0.29100  0.52575  0.6460   \n",
      "\n",
      "                       75%    max  \n",
      "genre                              \n",
      "Pop                0.34800  0.902  \n",
      "Hip-Hop/Rap        0.23400  0.731  \n",
      "Dance/Electronic   0.17700  0.223  \n",
      "Alternative/Indie  0.70375  0.751  \n"
     ]
    }
   ],
   "source": [
    "# Comparing acousticness between Pop, Hip-Hop/Rap, Dance/Eletronic, and Alternative/Indie genres\n",
    "\n",
    "acoustic_genres = filtered_genres.groupby('genre')['acousticness'].describe()\n",
    "acoustic_genres = acoustic_genres.sort_values(by='count', ascending=False)\n",
    "print(acoustic_genres)"
   ]
  }
 ],
 "metadata": {
  "kernelspec": {
   "display_name": "tic_tac_toe",
   "language": "python",
   "name": "python3"
  },
  "language_info": {
   "codemirror_mode": {
    "name": "ipython",
    "version": 3
   },
   "file_extension": ".py",
   "mimetype": "text/x-python",
   "name": "python",
   "nbconvert_exporter": "python",
   "pygments_lexer": "ipython3",
   "version": "3.12.7"
  }
 },
 "nbformat": 4,
 "nbformat_minor": 2
}
